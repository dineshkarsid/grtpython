{
 "cells": [
  {
   "cell_type": "markdown",
   "metadata": {},
   "source": [
    "# 3D MAPS WITH PYDECK\n",
    "For more information on pydeck, visit the python package index or visit the documentation at https://pydeck.gl.\n",
    "\n",
    "# By default, pydeck 0.6 provides basemap tiles through Carto."
   ]
  },
  {
   "cell_type": "markdown",
   "metadata": {},
   "source": [
    "# DOCUMENTATION"
   ]
  },
  {
   "cell_type": "code",
   "execution_count": 8,
   "metadata": {},
   "outputs": [
    {
     "data": {
      "text/html": [
       "\n",
       "        <iframe\n",
       "            width=\"1000\"\n",
       "            height=\"500\"\n",
       "            src=\"https://pydeck.gl\"\n",
       "            frameborder=\"0\"\n",
       "            allowfullscreen\n",
       "        ></iframe>\n",
       "        "
      ],
      "text/plain": [
       "<IPython.lib.display.IFrame at 0x7fc07a9f3fd0>"
      ]
     },
     "metadata": {},
     "output_type": "display_data"
    }
   ],
   "source": [
    "from IPython.display import IFrame\n",
    "documentation = IFrame(src='https://pydeck.gl', width=1000, height=500)\n",
    "display(documentation)"
   ]
  },
  {
   "cell_type": "markdown",
   "metadata": {},
   "source": [
    "# NOTES"
   ]
  },
  {
   "cell_type": "code",
   "execution_count": 9,
   "metadata": {},
   "outputs": [],
   "source": [
    "# Mapbox requires an API key\n",
    "# command + scroll to rotate map (different on Windows and other combinations work also - shift + scroll)\n",
    "\n",
    "# PATTERN TO CREATE MAPS\n",
    "# data\n",
    "# view (location, zoom level, etc.)\n",
    "# layer\n",
    "# render map\n",
    "# display and save map (to_html(), show())"
   ]
  },
  {
   "cell_type": "markdown",
   "metadata": {},
   "source": [
    "# IMPORTS"
   ]
  },
  {
   "cell_type": "code",
   "execution_count": 2,
   "metadata": {},
   "outputs": [],
   "source": [
    "import pydeck as pdk\n",
    "import pandas as pd\n",
    "from vega_datasets import data as vds\n",
    "import ipywidgets\n",
    "# use palettable for colormap colors\n",
    "from palettable.cartocolors.sequential import BrwnYl_3\n",
    "import json\n",
    "\n",
    "# DO NOT import PYTHON_API_KEYS - this is how I import my API keys\n",
    "# import PYTHON_API_KEYS\n",
    "\n",
    "# enter your api key here\n",
    "# if using mapbox replace PYTHON_API_KEYS.API_KEYS.MAPBOX with your API key as a string\n",
    "# API key required for mapbox basemap tiles\n",
    "# MAPBOX_API_KEY = PYTHON_API_KEYS.API_KEYS.MAPBOX\n",
    "\n",
    "# To enable pydeck for Jupyter Notebook (restart everything after if not working):\n",
    "# jupyter nbextension install --sys-prefix --symlink --overwrite --py pydeck\n",
    "# jupyter nbextension enable --sys-prefix --py pydeck"
   ]
  },
  {
   "cell_type": "markdown",
   "metadata": {},
   "source": [
    "# ARCLAYER EXAMPLE - WORK COMMUTE PATTERNS\n",
    "\n",
    "examples of other mapbox map styles:\n",
    "* mapbox://styles/mapbox/streets-v11\n",
    "* mapbox://styles/mapbox/outdoors-v11\n",
    "* mapbox://styles/mapbox/light-v10\n",
    "* mapbox://styles/mapbox/dark-v10\n",
    "* mapbox://styles/mapbox/satellite-v9\n",
    "* mapbox://styles/mapbox/satellite-streets-v11\n",
    "\n",
    "# CARTO map styles\n",
    "dark, light, road, satellite, dark_no_labels, light_no_labels"
   ]
  },
  {
   "cell_type": "code",
   "execution_count": 13,
   "metadata": {},
   "outputs": [
    {
     "name": "stdout",
     "output_type": "stream",
     "text": [
      "    from_lat   from_lon     to_lat     to_lon\n",
      "0  32.870715 -97.376346  32.769007 -96.812533\n",
      "1  32.799592 -97.351823  32.822974 -96.801833\n"
     ]
    },
    {
     "data": {
      "application/vnd.jupyter.widget-view+json": {
       "model_id": "f666c3bdac3d404ea8616623ed0b8920",
       "version_major": 2,
       "version_minor": 0
      },
      "text/plain": [
       "DeckGLWidget(carto_key=None, custom_libraries=[], google_maps_key=None, json_input='{\"initialViewState\": {\"lat…"
      ]
     },
     "metadata": {},
     "output_type": "display_data"
    }
   ],
   "source": [
    "# ArcLayer - work commute patterns (create dataframe with fake data)\n",
    "# to change look of commute lines use arguments such as pitch, get_width, get_tilt, etc.\n",
    "\n",
    "# data\n",
    "data = 'https://raw.githubusercontent.com/groundhogday321/dataframe-datasets/master/fake_commute_data.csv'\n",
    "commute_pattern = pd.read_csv(data)\n",
    "print(commute_pattern.head(2))\n",
    "\n",
    "# view (location, zoom level, etc.)\n",
    "view = pdk.ViewState(latitude=32.800382, longitude=-97.040728, pitch=50, zoom=9)\n",
    "\n",
    "# layer\n",
    "# from home (orange) to work (purple)\n",
    "arc_layer = pdk.Layer('ArcLayer',\n",
    "                      data=commute_pattern,\n",
    "                      get_source_position=['from_lon', 'from_lat'],\n",
    "                      get_target_position=['to_lon', 'to_lat'],\n",
    "                      get_width=5,\n",
    "                      get_tilt=15,\n",
    "                      # RGBA colors (red, green, blue, alpha)\n",
    "                      get_source_color=[255, 165, 0, 80],\n",
    "                      get_target_color=[128, 0, 128, 80])\n",
    "\n",
    "# render map\n",
    "# choose map style\n",
    "# mapbox api key required for basemap tile\n",
    "# By default, pydeck 0.6 provides basemap tiles through Carto                         \n",
    "\n",
    "# USING CARTO\n",
    "# automatically defaults to carto dark map\n",
    "arc_layer_map = pdk.Deck(layers=arc_layer,\n",
    "                         map_provider='carto',\n",
    "                         map_style='light',\n",
    "                         initial_view_state=view)\n",
    "\n",
    "# display and save map (to_html(), show())\n",
    "#arc_layer_map.to_html('/Users/ryannoonan/Desktop/arc_layer_map.html')\n",
    "arc_layer_map.show()"
   ]
  },
  {
   "cell_type": "markdown",
   "metadata": {},
   "source": [
    "# COLUMNLAYER EXAMPLE - POPULATION BY COUNTY"
   ]
  },
  {
   "cell_type": "code",
   "execution_count": 14,
   "metadata": {
    "scrolled": false
   },
   "outputs": [
    {
     "name": "stdout",
     "output_type": "stream",
     "text": [
      "Index(['Sort', 'State_Abbreviation', 'State', 'FIPS', 'County',\n",
      "       'Population_2010', 'Land_Area_KM_Squared', 'Land_Area_MI_Squared',\n",
      "       'Water_Area_KM_Squared', 'Water_Area_MI_Squared',\n",
      "       'Total_Area_KM_Squared', 'Total_Area_MI_Squared', 'Latitude',\n",
      "       'Longitude', 'scaled_population'],\n",
      "      dtype='object')\n"
     ]
    },
    {
     "data": {
      "application/vnd.jupyter.widget-view+json": {
       "model_id": "723b69d3538a4fc1b5ddbc747747195c",
       "version_major": 2,
       "version_minor": 0
      },
      "text/plain": [
       "DeckGLWidget(carto_key=None, custom_libraries=[], google_maps_key=None, json_input='{\"initialViewState\": {\"lat…"
      ]
     },
     "metadata": {},
     "output_type": "display_data"
    }
   ],
   "source": [
    "# data\n",
    "# in this example, the population was scaled down\n",
    "# to change visualization, try changing the elevation_scale and radius arguments\n",
    "\n",
    "data = 'https://raw.githubusercontent.com/groundhogday321/dataframe-datasets/master/us_county_centroids.csv'\n",
    "county_population = pd.read_csv(data)\n",
    "county_population['scaled_population'] = county_population['Population_2010']/1_000\n",
    "print(county_population.columns)\n",
    "\n",
    "# view (location, zoom level, etc.)\n",
    "view = pdk.ViewState(latitude=39.155726, longitude=-98.030561, pitch=50, zoom=3)\n",
    "\n",
    "# layer\n",
    "column_layer = pdk.Layer('ColumnLayer',\n",
    "                         data=county_population,\n",
    "                         get_position=['Longitude', 'Latitude'],\n",
    "                         get_elevation='scaled_population',\n",
    "                         elevation_scale=100,\n",
    "                         radius=5000,\n",
    "                         get_fill_color=[255, 165, 0, 80],\n",
    "                         pickable=True,\n",
    "                         auto_highlight=True)\n",
    "\n",
    "# render map\n",
    "# with no map_style, map goes to default\n",
    "column_layer_map = pdk.Deck(layers=column_layer, \n",
    "                            initial_view_state=view)\n",
    "\n",
    "# display and save map (to_html(), show())\n",
    "column_layer_map.show()"
   ]
  },
  {
   "cell_type": "markdown",
   "metadata": {
    "scrolled": true
   },
   "source": [
    "# HEXAGONLAYER EXAMPLE - EARTHQUAKES"
   ]
  },
  {
   "cell_type": "code",
   "execution_count": 15,
   "metadata": {},
   "outputs": [
    {
     "name": "stdout",
     "output_type": "stream",
     "text": [
      "   Longitude  Latitude\n",
      "0    145.616    19.246\n",
      "1    127.352     1.863\n",
      "2   -173.972   -20.579\n",
      "3    -23.557   -59.076\n",
      "4    126.427    11.938\n"
     ]
    },
    {
     "data": {
      "application/vnd.jupyter.widget-view+json": {
       "model_id": "da639af0b0d04ff8b63c997793571ae4",
       "version_major": 2,
       "version_minor": 0
      },
      "text/plain": [
       "DeckGLWidget(carto_key=None, custom_libraries=[], google_maps_key=None, json_input='{\"initialViewState\": {\"lat…"
      ]
     },
     "metadata": {},
     "output_type": "display_data"
    }
   ],
   "source": [
    "# data\n",
    "# earthquakes data from kaggle\n",
    "# the earthquakes data only includes latitude and longitude\n",
    "earthquakes = pd.read_csv('earthquakes_data.csv')[['Longitude','Latitude']]\n",
    "print(earthquakes.head())\n",
    "\n",
    "# view (location, zoom level, etc.)\n",
    "view = pdk.ViewState(latitude=31.315012, longitude=-30.712136, pitch=50, zoom=1)\n",
    "\n",
    "# layer\n",
    "hexagon_layer = pdk.Layer('HexagonLayer',\n",
    "                          data=earthquakes,\n",
    "                          get_position=['Longitude', 'Latitude'],\n",
    "                          auto_highlight=True,\n",
    "                          elevation_scale=50,\n",
    "                          elevation_range=[0, 3_000],\n",
    "                          radius=50_000,\n",
    "                          extruded=True)\n",
    "\n",
    "# render map\n",
    "# with no map_style, map goes to default\n",
    "hexagon_layer_map = pdk.Deck(layers=hexagon_layer, \n",
    "                             initial_view_state=view)\n",
    "\n",
    "# display and save map (to_html(), show())\n",
    "hexagon_layer_map.show()"
   ]
  },
  {
   "cell_type": "markdown",
   "metadata": {},
   "source": [
    "# HEATMAPLAYER EXAMPLE - POPULATION BY COUNTY"
   ]
  },
  {
   "cell_type": "code",
   "execution_count": 16,
   "metadata": {},
   "outputs": [
    {
     "name": "stdout",
     "output_type": "stream",
     "text": [
      "          City       State  Population_2018  latitude  longitude\n",
      "0     New York    New York          8398748   40.6635   -73.9387\n",
      "1  Los Angeles  California          3990456   34.0194  -118.4108\n",
      "2      Chicago    Illinois          2705994   41.8376   -87.6818\n",
      "3      Houston       Texas          2325502   29.7866   -95.3909\n",
      "4      Phoenix     Arizona          1660272   33.5722  -112.0901\n"
     ]
    },
    {
     "data": {
      "application/vnd.jupyter.widget-view+json": {
       "model_id": "64c56b2b1be9418da88db1fe5c2449b9",
       "version_major": 2,
       "version_minor": 0
      },
      "text/plain": [
       "DeckGLWidget(carto_key=None, custom_libraries=[], google_maps_key=None, json_input='{\"initialViewState\": {\"lat…"
      ]
     },
     "metadata": {},
     "output_type": "display_data"
    }
   ],
   "source": [
    "# data\n",
    "data = 'https://raw.githubusercontent.com/groundhogday321/dataframe-datasets/master/us_population_by_city_2018.csv'\n",
    "city_population = pd.read_csv(data)\n",
    "print(city_population.head())\n",
    "\n",
    "# view (location, zoom level, etc.)\n",
    "view = pdk.ViewState(latitude=39.155726, longitude=-98.030561, pitch=50, zoom=3)\n",
    "\n",
    "# layer\n",
    "heatmap_layer = pdk.Layer('HeatmapLayer',\n",
    "                          data=city_population,\n",
    "                          opacity=0.9,\n",
    "                          get_position=['longitude', 'latitude'],\n",
    "                          color_range=BrwnYl_3.colors,\n",
    "                          threshold=0.2,\n",
    "                          get_weight='Population_2018',\n",
    "                          pickable=True)\n",
    "\n",
    "# render map\n",
    "heatmap_layer_map = pdk.Deck(layers=heatmap_layer,\n",
    "                             initial_view_state=view)\n",
    "\n",
    "# display and save map (to_html(), show())\n",
    "heatmap_layer_map.show()"
   ]
  },
  {
   "cell_type": "markdown",
   "metadata": {},
   "source": [
    "# GEOJSONLAYER EXAMPLE - POPULATION BY COUNTY\n",
    "\n",
    "Shapefiles can be converted to geojson files using QGIS (EPSG 4326, WGS 84)."
   ]
  },
  {
   "cell_type": "code",
   "execution_count": 17,
   "metadata": {},
   "outputs": [
    {
     "data": {
      "application/vnd.jupyter.widget-view+json": {
       "model_id": "e47bf496eec54dea9f08a13bf722a067",
       "version_major": 2,
       "version_minor": 0
      },
      "text/plain": [
       "DeckGLWidget(carto_key=None, custom_libraries=[], google_maps_key=None, json_input='{\"initialViewState\": {\"lat…"
      ]
     },
     "metadata": {},
     "output_type": "display_data"
    }
   ],
   "source": [
    "# data\n",
    "geojson_data = 'https://raw.githubusercontent.com/groundhogday321/map-layers/main/indiana_counties.geojson'\n",
    "\n",
    "# load file from computer\n",
    "# f = open('indiana_geojson.geojson')\n",
    "# geojson_data = json.load(f)\n",
    "\n",
    "# view (location, zoom level, etc.)\n",
    "view = pdk.ViewState(latitude=39.782339, longitude=-86.160225, pitch=50, zoom=6)\n",
    "\n",
    "# layer\n",
    "geojson_layer = pdk.Layer('GeoJsonLayer',\n",
    "                          data=geojson_data,\n",
    "                          opacity=0.8,\n",
    "                          stroked=False,\n",
    "                          filled=True,\n",
    "                          extruded=True,\n",
    "                          wireframe=True,\n",
    "                          pickable=True,\n",
    "                          get_elevation='properties.POP2000 / 10',\n",
    "                          get_fill_color=[255, 255, 255],\n",
    "                          get_line_color=[255, 165, 0])\n",
    "\n",
    "# render map\n",
    "geojson_layer_map = pdk.Deck(layers=[geojson_layer],\n",
    "                             initial_view_state=view,\n",
    "                             map_style='road',)\n",
    "\n",
    "# display and save map (to_html(), show())\n",
    "geojson_layer_map.show()"
   ]
  },
  {
   "cell_type": "markdown",
   "metadata": {},
   "source": [
    "# TEXTLAYER EXAMPLE - TEXTLAYER WITH GEOJSONLAYER"
   ]
  },
  {
   "cell_type": "code",
   "execution_count": 18,
   "metadata": {
    "scrolled": false
   },
   "outputs": [
    {
     "name": "stdout",
     "output_type": "stream",
     "text": [
      "Index(['Sort', 'State_Abbreviation', 'State', 'FIPS', 'County',\n",
      "       'Population_2010', 'Land_Area_KM_Squared', 'Land_Area_MI_Squared',\n",
      "       'Water_Area_KM_Squared', 'Water_Area_MI_Squared',\n",
      "       'Total_Area_KM_Squared', 'Total_Area_MI_Squared', 'Latitude',\n",
      "       'Longitude'],\n",
      "      dtype='object')\n"
     ]
    },
    {
     "data": {
      "application/vnd.jupyter.widget-view+json": {
       "model_id": "978c24eca2764a2385d7b3d1c23caa90",
       "version_major": 2,
       "version_minor": 0
      },
      "text/plain": [
       "DeckGLWidget(carto_key=None, custom_libraries=[], google_maps_key=None, json_input='{\"initialViewState\": {\"lat…"
      ]
     },
     "metadata": {},
     "output_type": "display_data"
    }
   ],
   "source": [
    "# data\n",
    "geojson_data = 'https://raw.githubusercontent.com/groundhogday321/map-layers/main/texas_counties.geojson'\n",
    "\n",
    "# load file from computer\n",
    "# f = open('texas_counties.geojson')\n",
    "# geojson_data = json.load(f)\n",
    "\n",
    "data = 'https://raw.githubusercontent.com/groundhogday321/dataframe-datasets/master/us_county_centroids.csv'\n",
    "counties = pd.read_csv(data)\n",
    "texas_counties = counties[counties['State'] == 'TEXAS'] \n",
    "print(texas_counties.columns)\n",
    "\n",
    "# view (location, zoom level, etc.)\n",
    "view = pdk.ViewState(latitude=31.917932, longitude=-98.664612, pitch=50, zoom=6)\n",
    "\n",
    "# layer\n",
    "geojson_layer = pdk.Layer('GeoJsonLayer',\n",
    "                          data=geojson_data,\n",
    "                          opacity=0.5,\n",
    "                          stroked=False,\n",
    "                          filled=True,\n",
    "                          extruded=True,\n",
    "                          wireframe=True,\n",
    "                          get_fill_color=[255, 255, 255],\n",
    "                          get_line_color=[255, 255, 255])\n",
    "\n",
    "text_layer = pdk.Layer('TextLayer',\n",
    "                       texas_counties,\n",
    "                       pickable=True,\n",
    "                       get_position=['Longitude', 'Latitude'],\n",
    "                       get_text='County',\n",
    "                       get_size=16,\n",
    "                       get_angle=0,\n",
    "                       get_color=[255, 255, 0])\n",
    "\n",
    "# render map\n",
    "text_layer_map = pdk.Deck(layers=[text_layer, geojson_layer],\n",
    "                          initial_view_state=view)\n",
    "\n",
    "# display and save map (to_html(), show())\n",
    "text_layer_map.show()"
   ]
  },
  {
   "cell_type": "markdown",
   "metadata": {},
   "source": [
    "# ANIMATED EXAMPLE\n",
    "### ADD WIDGET FOR INTERACTIVE MAP WITH ANIMATION"
   ]
  },
  {
   "cell_type": "code",
   "execution_count": 19,
   "metadata": {},
   "outputs": [
    {
     "data": {
      "application/vnd.jupyter.widget-view+json": {
       "model_id": "a77ac9dcbafe449ab90fd560bc4f05ca",
       "version_major": 2,
       "version_minor": 0
      },
      "text/plain": [
       "HBox(children=(IntSlider(value=1955, max=2005, min=1955, step=5), Play(value=1955, description='Press play', i…"
      ]
     },
     "metadata": {},
     "output_type": "display_data"
    },
    {
     "data": {
      "application/vnd.jupyter.widget-view+json": {
       "model_id": "c0a5d05a579a4dd8a9db45ed7e102dfb",
       "version_major": 2,
       "version_minor": 0
      },
      "text/plain": [
       "Output()"
      ]
     },
     "metadata": {},
     "output_type": "display_data"
    },
    {
     "data": {
      "application/vnd.jupyter.widget-view+json": {
       "model_id": "1a39c3e00f44438ba729f948fb1d8a19",
       "version_major": 2,
       "version_minor": 0
      },
      "text/plain": [
       "DeckGLWidget(carto_key=None, custom_libraries=[], google_maps_key=None, json_input='{\"initialViewState\": {\"lat…"
      ]
     },
     "metadata": {},
     "output_type": "display_data"
    }
   ],
   "source": [
    "# data\n",
    "# in this example, the population was scaled down\n",
    "data = 'https://raw.githubusercontent.com/groundhogday321/dataframe-datasets/master/gapminder_centroids.csv'\n",
    "gapminder = pd.read_csv(data)\n",
    "gapminder['scaled_population'] = gapminder['pop']/50_000\n",
    "\n",
    "# view (location, zoom level, etc.)\n",
    "view = pdk.ViewState(latitude=39, longitude=35, pitch=50, zoom=1)\n",
    "\n",
    "# layer\n",
    "gapminder_layer = pdk.Layer('ColumnLayer',\n",
    "                             data=gapminder,\n",
    "                             get_position=['longitude', 'latitude'],\n",
    "                             get_elevation='scaled_population',\n",
    "                             elevation_scale=100,\n",
    "                             radius=200_000,\n",
    "                             get_fill_color=[255, 165, 0, 80],\n",
    "                             pickable=True,\n",
    "                             auto_highlight=True)\n",
    "\n",
    "# render map\n",
    "# with no map_style, map goes to default\n",
    "gapminder_layer_map = pdk.Deck(layers=gapminder_layer, \n",
    "                               initial_view_state=view)\n",
    "\n",
    "# display and save map (to_html(), show())\n",
    "# display(gapminder_layer_map.show())\n",
    "# display at botton\n",
    "\n",
    "# widgets\n",
    "slider = ipywidgets.IntSlider(value=1955, min=1955, max=2005, step=5)\n",
    "play = ipywidgets.Play(value=1955, min=1955, max=2005, step=5, description='Press play', interval=1_000)\n",
    "ipywidgets.jslink((play, 'value'), (slider, 'value'))\n",
    "layout = ipywidgets.HBox([slider, play])\n",
    "\n",
    "# function\n",
    "def update_plot(year):\n",
    "    gapminder_layer.data = gapminder[gapminder['year'] == year]\n",
    "    return gapminder_layer_map.update()\n",
    "\n",
    "# interaction between widget and function\n",
    "interact = ipywidgets.interactive_output(update_plot, {'year': slider});\n",
    "display(layout, interact)\n",
    "\n",
    "# display and save map (to_html(), show())\n",
    "gapminder_layer_map.show()"
   ]
  }
 ],
 "metadata": {
  "kernelspec": {
   "display_name": "Python 3",
   "language": "python",
   "name": "python3"
  },
  "language_info": {
   "codemirror_mode": {
    "name": "ipython",
    "version": 3
   },
   "file_extension": ".py",
   "mimetype": "text/x-python",
   "name": "python",
   "nbconvert_exporter": "python",
   "pygments_lexer": "ipython3",
   "version": "3.8.10"
  },
  "toc": {
   "base_numbering": 1,
   "nav_menu": {},
   "number_sections": false,
   "sideBar": false,
   "skip_h1_title": false,
   "title_cell": "Table of Contents",
   "title_sidebar": "Contents",
   "toc_cell": false,
   "toc_position": {},
   "toc_section_display": false,
   "toc_window_display": false
  },
  "varInspector": {
   "cols": {
    "lenName": 16,
    "lenType": 16,
    "lenVar": 40
   },
   "kernels_config": {
    "python": {
     "delete_cmd_postfix": "",
     "delete_cmd_prefix": "del ",
     "library": "var_list.py",
     "varRefreshCmd": "print(var_dic_list())"
    },
    "r": {
     "delete_cmd_postfix": ") ",
     "delete_cmd_prefix": "rm(",
     "library": "var_list.r",
     "varRefreshCmd": "cat(var_dic_list()) "
    }
   },
   "types_to_exclude": [
    "module",
    "function",
    "builtin_function_or_method",
    "instance",
    "_Feature"
   ],
   "window_display": false
  }
 },
 "nbformat": 4,
 "nbformat_minor": 4
}
